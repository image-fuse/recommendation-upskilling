{
 "cells": [
  {
   "cell_type": "code",
   "execution_count": 1,
   "id": "20658387",
   "metadata": {},
   "outputs": [],
   "source": [
    "import pandas as pd \n",
    "import numpy as np\n",
    "\n",
    "%matplotlib inline"
   ]
  },
  {
   "cell_type": "markdown",
   "id": "5d7e0092",
   "metadata": {},
   "source": [
    "## Order df"
   ]
  },
  {
   "cell_type": "code",
   "execution_count": 2,
   "id": "2e491e3c",
   "metadata": {},
   "outputs": [],
   "source": [
    "order = pd.read_csv('data/instacart/orders.csv')"
   ]
  },
  {
   "cell_type": "code",
   "execution_count": 3,
   "id": "c089aa93",
   "metadata": {},
   "outputs": [
    {
     "data": {
      "text/html": [
       "<div>\n",
       "<style scoped>\n",
       "    .dataframe tbody tr th:only-of-type {\n",
       "        vertical-align: middle;\n",
       "    }\n",
       "\n",
       "    .dataframe tbody tr th {\n",
       "        vertical-align: top;\n",
       "    }\n",
       "\n",
       "    .dataframe thead th {\n",
       "        text-align: right;\n",
       "    }\n",
       "</style>\n",
       "<table border=\"1\" class=\"dataframe\">\n",
       "  <thead>\n",
       "    <tr style=\"text-align: right;\">\n",
       "      <th></th>\n",
       "      <th>order_id</th>\n",
       "      <th>user_id</th>\n",
       "      <th>order_dow</th>\n",
       "      <th>order_hour_of_day</th>\n",
       "    </tr>\n",
       "  </thead>\n",
       "  <tbody>\n",
       "    <tr>\n",
       "      <th>0</th>\n",
       "      <td>2539329</td>\n",
       "      <td>1</td>\n",
       "      <td>2</td>\n",
       "      <td>8</td>\n",
       "    </tr>\n",
       "    <tr>\n",
       "      <th>1</th>\n",
       "      <td>2398795</td>\n",
       "      <td>1</td>\n",
       "      <td>3</td>\n",
       "      <td>7</td>\n",
       "    </tr>\n",
       "    <tr>\n",
       "      <th>2</th>\n",
       "      <td>473747</td>\n",
       "      <td>1</td>\n",
       "      <td>3</td>\n",
       "      <td>12</td>\n",
       "    </tr>\n",
       "    <tr>\n",
       "      <th>3</th>\n",
       "      <td>2254736</td>\n",
       "      <td>1</td>\n",
       "      <td>4</td>\n",
       "      <td>7</td>\n",
       "    </tr>\n",
       "    <tr>\n",
       "      <th>4</th>\n",
       "      <td>431534</td>\n",
       "      <td>1</td>\n",
       "      <td>4</td>\n",
       "      <td>15</td>\n",
       "    </tr>\n",
       "  </tbody>\n",
       "</table>\n",
       "</div>"
      ],
      "text/plain": [
       "   order_id  user_id  order_dow  order_hour_of_day\n",
       "0   2539329        1          2                  8\n",
       "1   2398795        1          3                  7\n",
       "2    473747        1          3                 12\n",
       "3   2254736        1          4                  7\n",
       "4    431534        1          4                 15"
      ]
     },
     "execution_count": 3,
     "metadata": {},
     "output_type": "execute_result"
    }
   ],
   "source": [
    "order.drop(['eval_set', 'days_since_prior_order', 'order_number'], axis=1, inplace=True)\n",
    "order.head()"
   ]
  },
  {
   "cell_type": "code",
   "execution_count": 4,
   "id": "9d74f217",
   "metadata": {},
   "outputs": [
    {
     "data": {
      "text/plain": [
       "206209"
      ]
     },
     "execution_count": 4,
     "metadata": {},
     "output_type": "execute_result"
    }
   ],
   "source": [
    "order['user_id'].nunique()"
   ]
  },
  {
   "cell_type": "code",
   "execution_count": 5,
   "id": "ee8aa014",
   "metadata": {},
   "outputs": [
    {
     "data": {
      "text/plain": [
       "3421083"
      ]
     },
     "execution_count": 5,
     "metadata": {},
     "output_type": "execute_result"
    }
   ],
   "source": [
    "order['order_id'].nunique()"
   ]
  },
  {
   "cell_type": "markdown",
   "id": "b6c98ae1",
   "metadata": {},
   "source": [
    "## Product df"
   ]
  },
  {
   "cell_type": "code",
   "execution_count": 6,
   "id": "8027751e",
   "metadata": {},
   "outputs": [],
   "source": [
    "prod = pd.read_csv('data/instacart/products.csv')"
   ]
  },
  {
   "cell_type": "code",
   "execution_count": 7,
   "id": "dff8803e",
   "metadata": {},
   "outputs": [
    {
     "data": {
      "text/html": [
       "<div>\n",
       "<style scoped>\n",
       "    .dataframe tbody tr th:only-of-type {\n",
       "        vertical-align: middle;\n",
       "    }\n",
       "\n",
       "    .dataframe tbody tr th {\n",
       "        vertical-align: top;\n",
       "    }\n",
       "\n",
       "    .dataframe thead th {\n",
       "        text-align: right;\n",
       "    }\n",
       "</style>\n",
       "<table border=\"1\" class=\"dataframe\">\n",
       "  <thead>\n",
       "    <tr style=\"text-align: right;\">\n",
       "      <th></th>\n",
       "      <th>product_id</th>\n",
       "      <th>product_name</th>\n",
       "    </tr>\n",
       "  </thead>\n",
       "  <tbody>\n",
       "    <tr>\n",
       "      <th>0</th>\n",
       "      <td>1</td>\n",
       "      <td>Chocolate Sandwich Cookies</td>\n",
       "    </tr>\n",
       "    <tr>\n",
       "      <th>1</th>\n",
       "      <td>2</td>\n",
       "      <td>All-Seasons Salt</td>\n",
       "    </tr>\n",
       "    <tr>\n",
       "      <th>2</th>\n",
       "      <td>3</td>\n",
       "      <td>Robust Golden Unsweetened Oolong Tea</td>\n",
       "    </tr>\n",
       "    <tr>\n",
       "      <th>3</th>\n",
       "      <td>4</td>\n",
       "      <td>Smart Ones Classic Favorites Mini Rigatoni Wit...</td>\n",
       "    </tr>\n",
       "    <tr>\n",
       "      <th>4</th>\n",
       "      <td>5</td>\n",
       "      <td>Green Chile Anytime Sauce</td>\n",
       "    </tr>\n",
       "  </tbody>\n",
       "</table>\n",
       "</div>"
      ],
      "text/plain": [
       "   product_id                                       product_name\n",
       "0           1                         Chocolate Sandwich Cookies\n",
       "1           2                                   All-Seasons Salt\n",
       "2           3               Robust Golden Unsweetened Oolong Tea\n",
       "3           4  Smart Ones Classic Favorites Mini Rigatoni Wit...\n",
       "4           5                          Green Chile Anytime Sauce"
      ]
     },
     "execution_count": 7,
     "metadata": {},
     "output_type": "execute_result"
    }
   ],
   "source": [
    "prod.drop(['aisle_id', 'department_id'], axis=1, inplace=True)\n",
    "prod.head()"
   ]
  },
  {
   "cell_type": "code",
   "execution_count": 8,
   "id": "7a9a84bc",
   "metadata": {},
   "outputs": [
    {
     "data": {
      "text/plain": [
       "49688"
      ]
     },
     "execution_count": 8,
     "metadata": {},
     "output_type": "execute_result"
    }
   ],
   "source": [
    "prod['product_id'].nunique()"
   ]
  },
  {
   "cell_type": "code",
   "execution_count": 9,
   "id": "3c21e11f",
   "metadata": {},
   "outputs": [
    {
     "data": {
      "text/plain": [
       "49688"
      ]
     },
     "execution_count": 9,
     "metadata": {},
     "output_type": "execute_result"
    }
   ],
   "source": [
    "prod['product_name'].nunique()"
   ]
  },
  {
   "cell_type": "markdown",
   "id": "45215f81",
   "metadata": {},
   "source": [
    "## Order Products df"
   ]
  },
  {
   "cell_type": "code",
   "execution_count": 10,
   "id": "923329a7",
   "metadata": {},
   "outputs": [
    {
     "data": {
      "text/html": [
       "<div>\n",
       "<style scoped>\n",
       "    .dataframe tbody tr th:only-of-type {\n",
       "        vertical-align: middle;\n",
       "    }\n",
       "\n",
       "    .dataframe tbody tr th {\n",
       "        vertical-align: top;\n",
       "    }\n",
       "\n",
       "    .dataframe thead th {\n",
       "        text-align: right;\n",
       "    }\n",
       "</style>\n",
       "<table border=\"1\" class=\"dataframe\">\n",
       "  <thead>\n",
       "    <tr style=\"text-align: right;\">\n",
       "      <th></th>\n",
       "      <th>order_id</th>\n",
       "      <th>product_id</th>\n",
       "      <th>add_to_cart_order</th>\n",
       "      <th>reordered</th>\n",
       "    </tr>\n",
       "  </thead>\n",
       "  <tbody>\n",
       "    <tr>\n",
       "      <th>0</th>\n",
       "      <td>1</td>\n",
       "      <td>49302</td>\n",
       "      <td>1</td>\n",
       "      <td>1</td>\n",
       "    </tr>\n",
       "    <tr>\n",
       "      <th>1</th>\n",
       "      <td>1</td>\n",
       "      <td>11109</td>\n",
       "      <td>2</td>\n",
       "      <td>1</td>\n",
       "    </tr>\n",
       "    <tr>\n",
       "      <th>2</th>\n",
       "      <td>1</td>\n",
       "      <td>10246</td>\n",
       "      <td>3</td>\n",
       "      <td>0</td>\n",
       "    </tr>\n",
       "    <tr>\n",
       "      <th>3</th>\n",
       "      <td>1</td>\n",
       "      <td>49683</td>\n",
       "      <td>4</td>\n",
       "      <td>0</td>\n",
       "    </tr>\n",
       "    <tr>\n",
       "      <th>4</th>\n",
       "      <td>1</td>\n",
       "      <td>43633</td>\n",
       "      <td>5</td>\n",
       "      <td>1</td>\n",
       "    </tr>\n",
       "  </tbody>\n",
       "</table>\n",
       "</div>"
      ],
      "text/plain": [
       "   order_id  product_id  add_to_cart_order  reordered\n",
       "0         1       49302                  1          1\n",
       "1         1       11109                  2          1\n",
       "2         1       10246                  3          0\n",
       "3         1       49683                  4          0\n",
       "4         1       43633                  5          1"
      ]
     },
     "execution_count": 10,
     "metadata": {},
     "output_type": "execute_result"
    }
   ],
   "source": [
    "df = pd.read_csv('data/instacart/order_products__train.csv')\n",
    "df.head()"
   ]
  },
  {
   "cell_type": "code",
   "execution_count": 11,
   "id": "b4e49952",
   "metadata": {},
   "outputs": [
    {
     "data": {
      "text/html": [
       "<div>\n",
       "<style scoped>\n",
       "    .dataframe tbody tr th:only-of-type {\n",
       "        vertical-align: middle;\n",
       "    }\n",
       "\n",
       "    .dataframe tbody tr th {\n",
       "        vertical-align: top;\n",
       "    }\n",
       "\n",
       "    .dataframe thead th {\n",
       "        text-align: right;\n",
       "    }\n",
       "</style>\n",
       "<table border=\"1\" class=\"dataframe\">\n",
       "  <thead>\n",
       "    <tr style=\"text-align: right;\">\n",
       "      <th></th>\n",
       "      <th>order_id</th>\n",
       "      <th>product_id</th>\n",
       "    </tr>\n",
       "  </thead>\n",
       "  <tbody>\n",
       "    <tr>\n",
       "      <th>0</th>\n",
       "      <td>1</td>\n",
       "      <td>49302</td>\n",
       "    </tr>\n",
       "    <tr>\n",
       "      <th>1</th>\n",
       "      <td>1</td>\n",
       "      <td>11109</td>\n",
       "    </tr>\n",
       "    <tr>\n",
       "      <th>2</th>\n",
       "      <td>1</td>\n",
       "      <td>10246</td>\n",
       "    </tr>\n",
       "    <tr>\n",
       "      <th>3</th>\n",
       "      <td>1</td>\n",
       "      <td>49683</td>\n",
       "    </tr>\n",
       "    <tr>\n",
       "      <th>4</th>\n",
       "      <td>1</td>\n",
       "      <td>43633</td>\n",
       "    </tr>\n",
       "  </tbody>\n",
       "</table>\n",
       "</div>"
      ],
      "text/plain": [
       "   order_id  product_id\n",
       "0         1       49302\n",
       "1         1       11109\n",
       "2         1       10246\n",
       "3         1       49683\n",
       "4         1       43633"
      ]
     },
     "execution_count": 11,
     "metadata": {},
     "output_type": "execute_result"
    }
   ],
   "source": [
    "df.drop(['add_to_cart_order', 'reordered'], axis=1, inplace=True)\n",
    "df.head()"
   ]
  },
  {
   "cell_type": "code",
   "execution_count": 12,
   "id": "1fe079c7",
   "metadata": {},
   "outputs": [
    {
     "data": {
      "text/plain": [
       "39123"
      ]
     },
     "execution_count": 12,
     "metadata": {},
     "output_type": "execute_result"
    }
   ],
   "source": [
    "df['product_id'].nunique()"
   ]
  },
  {
   "cell_type": "code",
   "execution_count": 13,
   "id": "447c3aeb",
   "metadata": {},
   "outputs": [
    {
     "data": {
      "text/plain": [
       "131209"
      ]
     },
     "execution_count": 13,
     "metadata": {},
     "output_type": "execute_result"
    }
   ],
   "source": [
    "df['order_id'].nunique()"
   ]
  },
  {
   "cell_type": "markdown",
   "id": "a2fc1561",
   "metadata": {},
   "source": [
    "## Merging"
   ]
  },
  {
   "cell_type": "code",
   "execution_count": 14,
   "id": "11597128",
   "metadata": {},
   "outputs": [
    {
     "data": {
      "text/html": [
       "<div>\n",
       "<style scoped>\n",
       "    .dataframe tbody tr th:only-of-type {\n",
       "        vertical-align: middle;\n",
       "    }\n",
       "\n",
       "    .dataframe tbody tr th {\n",
       "        vertical-align: top;\n",
       "    }\n",
       "\n",
       "    .dataframe thead th {\n",
       "        text-align: right;\n",
       "    }\n",
       "</style>\n",
       "<table border=\"1\" class=\"dataframe\">\n",
       "  <thead>\n",
       "    <tr style=\"text-align: right;\">\n",
       "      <th></th>\n",
       "      <th>order_id</th>\n",
       "      <th>product_id</th>\n",
       "      <th>product_name</th>\n",
       "    </tr>\n",
       "  </thead>\n",
       "  <tbody>\n",
       "    <tr>\n",
       "      <th>0</th>\n",
       "      <td>1</td>\n",
       "      <td>49302</td>\n",
       "      <td>Bulgarian Yogurt</td>\n",
       "    </tr>\n",
       "    <tr>\n",
       "      <th>1</th>\n",
       "      <td>1</td>\n",
       "      <td>11109</td>\n",
       "      <td>Organic 4% Milk Fat Whole Milk Cottage Cheese</td>\n",
       "    </tr>\n",
       "    <tr>\n",
       "      <th>2</th>\n",
       "      <td>1</td>\n",
       "      <td>10246</td>\n",
       "      <td>Organic Celery Hearts</td>\n",
       "    </tr>\n",
       "    <tr>\n",
       "      <th>3</th>\n",
       "      <td>1</td>\n",
       "      <td>49683</td>\n",
       "      <td>Cucumber Kirby</td>\n",
       "    </tr>\n",
       "    <tr>\n",
       "      <th>4</th>\n",
       "      <td>1</td>\n",
       "      <td>43633</td>\n",
       "      <td>Lightly Smoked Sardines in Olive Oil</td>\n",
       "    </tr>\n",
       "  </tbody>\n",
       "</table>\n",
       "</div>"
      ],
      "text/plain": [
       "   order_id  product_id                                   product_name\n",
       "0         1       49302                               Bulgarian Yogurt\n",
       "1         1       11109  Organic 4% Milk Fat Whole Milk Cottage Cheese\n",
       "2         1       10246                          Organic Celery Hearts\n",
       "3         1       49683                                 Cucumber Kirby\n",
       "4         1       43633           Lightly Smoked Sardines in Olive Oil"
      ]
     },
     "execution_count": 14,
     "metadata": {},
     "output_type": "execute_result"
    }
   ],
   "source": [
    "# Merge the dataframes based on the common column \"product_id\"\n",
    "merged_df = pd.merge(df, prod, on='product_id', how='left')\n",
    "merged_df.head()"
   ]
  },
  {
   "cell_type": "code",
   "execution_count": 15,
   "id": "5fffd40c",
   "metadata": {},
   "outputs": [
    {
     "data": {
      "text/plain": [
       "131209"
      ]
     },
     "execution_count": 15,
     "metadata": {},
     "output_type": "execute_result"
    }
   ],
   "source": [
    "merged_df['order_id'].nunique()"
   ]
  },
  {
   "cell_type": "code",
   "execution_count": 16,
   "id": "f7e17a28",
   "metadata": {},
   "outputs": [
    {
     "data": {
      "text/html": [
       "<div>\n",
       "<style scoped>\n",
       "    .dataframe tbody tr th:only-of-type {\n",
       "        vertical-align: middle;\n",
       "    }\n",
       "\n",
       "    .dataframe tbody tr th {\n",
       "        vertical-align: top;\n",
       "    }\n",
       "\n",
       "    .dataframe thead th {\n",
       "        text-align: right;\n",
       "    }\n",
       "</style>\n",
       "<table border=\"1\" class=\"dataframe\">\n",
       "  <thead>\n",
       "    <tr style=\"text-align: right;\">\n",
       "      <th></th>\n",
       "      <th>order_id</th>\n",
       "      <th>product_id</th>\n",
       "      <th>product_name</th>\n",
       "      <th>user_id</th>\n",
       "      <th>order_dow</th>\n",
       "      <th>order_hour_of_day</th>\n",
       "    </tr>\n",
       "  </thead>\n",
       "  <tbody>\n",
       "    <tr>\n",
       "      <th>0</th>\n",
       "      <td>1</td>\n",
       "      <td>49302</td>\n",
       "      <td>Bulgarian Yogurt</td>\n",
       "      <td>112108</td>\n",
       "      <td>4</td>\n",
       "      <td>10</td>\n",
       "    </tr>\n",
       "    <tr>\n",
       "      <th>1</th>\n",
       "      <td>1</td>\n",
       "      <td>11109</td>\n",
       "      <td>Organic 4% Milk Fat Whole Milk Cottage Cheese</td>\n",
       "      <td>112108</td>\n",
       "      <td>4</td>\n",
       "      <td>10</td>\n",
       "    </tr>\n",
       "    <tr>\n",
       "      <th>2</th>\n",
       "      <td>1</td>\n",
       "      <td>10246</td>\n",
       "      <td>Organic Celery Hearts</td>\n",
       "      <td>112108</td>\n",
       "      <td>4</td>\n",
       "      <td>10</td>\n",
       "    </tr>\n",
       "    <tr>\n",
       "      <th>3</th>\n",
       "      <td>1</td>\n",
       "      <td>49683</td>\n",
       "      <td>Cucumber Kirby</td>\n",
       "      <td>112108</td>\n",
       "      <td>4</td>\n",
       "      <td>10</td>\n",
       "    </tr>\n",
       "    <tr>\n",
       "      <th>4</th>\n",
       "      <td>1</td>\n",
       "      <td>43633</td>\n",
       "      <td>Lightly Smoked Sardines in Olive Oil</td>\n",
       "      <td>112108</td>\n",
       "      <td>4</td>\n",
       "      <td>10</td>\n",
       "    </tr>\n",
       "  </tbody>\n",
       "</table>\n",
       "</div>"
      ],
      "text/plain": [
       "   order_id  product_id                                   product_name  \\\n",
       "0         1       49302                               Bulgarian Yogurt   \n",
       "1         1       11109  Organic 4% Milk Fat Whole Milk Cottage Cheese   \n",
       "2         1       10246                          Organic Celery Hearts   \n",
       "3         1       49683                                 Cucumber Kirby   \n",
       "4         1       43633           Lightly Smoked Sardines in Olive Oil   \n",
       "\n",
       "   user_id  order_dow  order_hour_of_day  \n",
       "0   112108          4                 10  \n",
       "1   112108          4                 10  \n",
       "2   112108          4                 10  \n",
       "3   112108          4                 10  \n",
       "4   112108          4                 10  "
      ]
     },
     "execution_count": 16,
     "metadata": {},
     "output_type": "execute_result"
    }
   ],
   "source": [
    "# Merge the dataframes based on the common column \"order_id\"\n",
    "final_df = pd.merge(merged_df, order, on='order_id', how='left')\n",
    "final_df.head()"
   ]
  },
  {
   "cell_type": "code",
   "execution_count": 17,
   "id": "e462f38e",
   "metadata": {},
   "outputs": [
    {
     "data": {
      "text/html": [
       "<div>\n",
       "<style scoped>\n",
       "    .dataframe tbody tr th:only-of-type {\n",
       "        vertical-align: middle;\n",
       "    }\n",
       "\n",
       "    .dataframe tbody tr th {\n",
       "        vertical-align: top;\n",
       "    }\n",
       "\n",
       "    .dataframe thead th {\n",
       "        text-align: right;\n",
       "    }\n",
       "</style>\n",
       "<table border=\"1\" class=\"dataframe\">\n",
       "  <thead>\n",
       "    <tr style=\"text-align: right;\">\n",
       "      <th></th>\n",
       "      <th>order_id</th>\n",
       "      <th>product_id</th>\n",
       "      <th>product_name</th>\n",
       "      <th>user_id</th>\n",
       "      <th>order_dow</th>\n",
       "      <th>order_hour_of_day</th>\n",
       "      <th>time</th>\n",
       "    </tr>\n",
       "  </thead>\n",
       "  <tbody>\n",
       "    <tr>\n",
       "      <th>0</th>\n",
       "      <td>1</td>\n",
       "      <td>49302</td>\n",
       "      <td>Bulgarian Yogurt</td>\n",
       "      <td>112108</td>\n",
       "      <td>4</td>\n",
       "      <td>10</td>\n",
       "      <td>4-10</td>\n",
       "    </tr>\n",
       "    <tr>\n",
       "      <th>1</th>\n",
       "      <td>1</td>\n",
       "      <td>11109</td>\n",
       "      <td>Organic 4% Milk Fat Whole Milk Cottage Cheese</td>\n",
       "      <td>112108</td>\n",
       "      <td>4</td>\n",
       "      <td>10</td>\n",
       "      <td>4-10</td>\n",
       "    </tr>\n",
       "    <tr>\n",
       "      <th>2</th>\n",
       "      <td>1</td>\n",
       "      <td>10246</td>\n",
       "      <td>Organic Celery Hearts</td>\n",
       "      <td>112108</td>\n",
       "      <td>4</td>\n",
       "      <td>10</td>\n",
       "      <td>4-10</td>\n",
       "    </tr>\n",
       "    <tr>\n",
       "      <th>3</th>\n",
       "      <td>1</td>\n",
       "      <td>49683</td>\n",
       "      <td>Cucumber Kirby</td>\n",
       "      <td>112108</td>\n",
       "      <td>4</td>\n",
       "      <td>10</td>\n",
       "      <td>4-10</td>\n",
       "    </tr>\n",
       "    <tr>\n",
       "      <th>4</th>\n",
       "      <td>1</td>\n",
       "      <td>43633</td>\n",
       "      <td>Lightly Smoked Sardines in Olive Oil</td>\n",
       "      <td>112108</td>\n",
       "      <td>4</td>\n",
       "      <td>10</td>\n",
       "      <td>4-10</td>\n",
       "    </tr>\n",
       "  </tbody>\n",
       "</table>\n",
       "</div>"
      ],
      "text/plain": [
       "   order_id  product_id                                   product_name  \\\n",
       "0         1       49302                               Bulgarian Yogurt   \n",
       "1         1       11109  Organic 4% Milk Fat Whole Milk Cottage Cheese   \n",
       "2         1       10246                          Organic Celery Hearts   \n",
       "3         1       49683                                 Cucumber Kirby   \n",
       "4         1       43633           Lightly Smoked Sardines in Olive Oil   \n",
       "\n",
       "   user_id  order_dow  order_hour_of_day  time  \n",
       "0   112108          4                 10  4-10  \n",
       "1   112108          4                 10  4-10  \n",
       "2   112108          4                 10  4-10  \n",
       "3   112108          4                 10  4-10  \n",
       "4   112108          4                 10  4-10  "
      ]
     },
     "execution_count": 17,
     "metadata": {},
     "output_type": "execute_result"
    }
   ],
   "source": [
    "# Create the 'time' column by combining 'order_dow' and 'order_hour_of_day' with a hyphen\n",
    "final_df['time'] = final_df['order_dow'].astype(str) + '-' + final_df['order_hour_of_day'].astype(str)\n",
    "final_df.head()"
   ]
  },
  {
   "cell_type": "code",
   "execution_count": 18,
   "id": "414244bf",
   "metadata": {},
   "outputs": [
    {
     "data": {
      "text/html": [
       "<div>\n",
       "<style scoped>\n",
       "    .dataframe tbody tr th:only-of-type {\n",
       "        vertical-align: middle;\n",
       "    }\n",
       "\n",
       "    .dataframe tbody tr th {\n",
       "        vertical-align: top;\n",
       "    }\n",
       "\n",
       "    .dataframe thead th {\n",
       "        text-align: right;\n",
       "    }\n",
       "</style>\n",
       "<table border=\"1\" class=\"dataframe\">\n",
       "  <thead>\n",
       "    <tr style=\"text-align: right;\">\n",
       "      <th></th>\n",
       "      <th>order_id</th>\n",
       "      <th>product_id</th>\n",
       "      <th>product_name</th>\n",
       "      <th>user_id</th>\n",
       "      <th>time</th>\n",
       "    </tr>\n",
       "  </thead>\n",
       "  <tbody>\n",
       "    <tr>\n",
       "      <th>0</th>\n",
       "      <td>1</td>\n",
       "      <td>49302</td>\n",
       "      <td>Bulgarian Yogurt</td>\n",
       "      <td>112108</td>\n",
       "      <td>4-10</td>\n",
       "    </tr>\n",
       "    <tr>\n",
       "      <th>1</th>\n",
       "      <td>1</td>\n",
       "      <td>11109</td>\n",
       "      <td>Organic 4% Milk Fat Whole Milk Cottage Cheese</td>\n",
       "      <td>112108</td>\n",
       "      <td>4-10</td>\n",
       "    </tr>\n",
       "    <tr>\n",
       "      <th>2</th>\n",
       "      <td>1</td>\n",
       "      <td>10246</td>\n",
       "      <td>Organic Celery Hearts</td>\n",
       "      <td>112108</td>\n",
       "      <td>4-10</td>\n",
       "    </tr>\n",
       "    <tr>\n",
       "      <th>3</th>\n",
       "      <td>1</td>\n",
       "      <td>49683</td>\n",
       "      <td>Cucumber Kirby</td>\n",
       "      <td>112108</td>\n",
       "      <td>4-10</td>\n",
       "    </tr>\n",
       "    <tr>\n",
       "      <th>4</th>\n",
       "      <td>1</td>\n",
       "      <td>43633</td>\n",
       "      <td>Lightly Smoked Sardines in Olive Oil</td>\n",
       "      <td>112108</td>\n",
       "      <td>4-10</td>\n",
       "    </tr>\n",
       "  </tbody>\n",
       "</table>\n",
       "</div>"
      ],
      "text/plain": [
       "   order_id  product_id                                   product_name  \\\n",
       "0         1       49302                               Bulgarian Yogurt   \n",
       "1         1       11109  Organic 4% Milk Fat Whole Milk Cottage Cheese   \n",
       "2         1       10246                          Organic Celery Hearts   \n",
       "3         1       49683                                 Cucumber Kirby   \n",
       "4         1       43633           Lightly Smoked Sardines in Olive Oil   \n",
       "\n",
       "   user_id  time  \n",
       "0   112108  4-10  \n",
       "1   112108  4-10  \n",
       "2   112108  4-10  \n",
       "3   112108  4-10  \n",
       "4   112108  4-10  "
      ]
     },
     "execution_count": 18,
     "metadata": {},
     "output_type": "execute_result"
    }
   ],
   "source": [
    "final_df.drop(['order_dow', 'order_hour_of_day'], axis=1, inplace=True)\n",
    "final_df.head()"
   ]
  },
  {
   "cell_type": "code",
   "execution_count": 19,
   "id": "54d5d7e7",
   "metadata": {},
   "outputs": [
    {
     "data": {
      "text/plain": [
       "(1384617, 5)"
      ]
     },
     "execution_count": 19,
     "metadata": {},
     "output_type": "execute_result"
    }
   ],
   "source": [
    "final_df.shape"
   ]
  },
  {
   "cell_type": "code",
   "execution_count": 20,
   "id": "80e37bcf",
   "metadata": {},
   "outputs": [
    {
     "data": {
      "text/plain": [
       "3421070"
      ]
     },
     "execution_count": 20,
     "metadata": {},
     "output_type": "execute_result"
    }
   ],
   "source": [
    "final_df['order_id'].max()"
   ]
  },
  {
   "cell_type": "code",
   "execution_count": 21,
   "id": "22e871cc",
   "metadata": {},
   "outputs": [],
   "source": [
    "final_df = final_df[final_df['order_id']<50000]"
   ]
  },
  {
   "cell_type": "code",
   "execution_count": 22,
   "id": "1805ac66",
   "metadata": {},
   "outputs": [
    {
     "data": {
      "text/plain": [
       "(20648, 5)"
      ]
     },
     "execution_count": 22,
     "metadata": {},
     "output_type": "execute_result"
    }
   ],
   "source": [
    "final_df.shape"
   ]
  },
  {
   "cell_type": "markdown",
   "id": "51efa050",
   "metadata": {},
   "source": [
    "## Groupby"
   ]
  },
  {
   "cell_type": "code",
   "execution_count": 23,
   "id": "94b35ba7",
   "metadata": {},
   "outputs": [
    {
     "data": {
      "text/html": [
       "<div>\n",
       "<style scoped>\n",
       "    .dataframe tbody tr th:only-of-type {\n",
       "        vertical-align: middle;\n",
       "    }\n",
       "\n",
       "    .dataframe tbody tr th {\n",
       "        vertical-align: top;\n",
       "    }\n",
       "\n",
       "    .dataframe thead th {\n",
       "        text-align: right;\n",
       "    }\n",
       "</style>\n",
       "<table border=\"1\" class=\"dataframe\">\n",
       "  <thead>\n",
       "    <tr style=\"text-align: right;\">\n",
       "      <th></th>\n",
       "      <th>users_count</th>\n",
       "      <th>items_count</th>\n",
       "      <th>items</th>\n",
       "    </tr>\n",
       "    <tr>\n",
       "      <th>time</th>\n",
       "      <th></th>\n",
       "      <th></th>\n",
       "      <th></th>\n",
       "    </tr>\n",
       "  </thead>\n",
       "  <tbody>\n",
       "    <tr>\n",
       "      <th>0-0</th>\n",
       "      <td>5</td>\n",
       "      <td>51</td>\n",
       "      <td>[Vinyl Glove Powder Free, Organic Whipping Cre...</td>\n",
       "    </tr>\n",
       "    <tr>\n",
       "      <th>0-1</th>\n",
       "      <td>2</td>\n",
       "      <td>26</td>\n",
       "      <td>[Corn De Maiz Blanco Tortillas, Pure Mint With...</td>\n",
       "    </tr>\n",
       "    <tr>\n",
       "      <th>0-10</th>\n",
       "      <td>33</td>\n",
       "      <td>306</td>\n",
       "      <td>[Sauvignon Blanc, English Seedless Cucumber, C...</td>\n",
       "    </tr>\n",
       "    <tr>\n",
       "      <th>0-11</th>\n",
       "      <td>18</td>\n",
       "      <td>171</td>\n",
       "      <td>[Granny Smith Apples, Organic Raw Unfiltered A...</td>\n",
       "    </tr>\n",
       "    <tr>\n",
       "      <th>0-12</th>\n",
       "      <td>48</td>\n",
       "      <td>520</td>\n",
       "      <td>[Clementines, Bag, Banana, Kids! Chewables Pro...</td>\n",
       "    </tr>\n",
       "  </tbody>\n",
       "</table>\n",
       "</div>"
      ],
      "text/plain": [
       "      users_count  items_count  \\\n",
       "time                             \n",
       "0-0             5           51   \n",
       "0-1             2           26   \n",
       "0-10           33          306   \n",
       "0-11           18          171   \n",
       "0-12           48          520   \n",
       "\n",
       "                                                  items  \n",
       "time                                                     \n",
       "0-0   [Vinyl Glove Powder Free, Organic Whipping Cre...  \n",
       "0-1   [Corn De Maiz Blanco Tortillas, Pure Mint With...  \n",
       "0-10  [Sauvignon Blanc, English Seedless Cucumber, C...  \n",
       "0-11  [Granny Smith Apples, Organic Raw Unfiltered A...  \n",
       "0-12  [Clementines, Bag, Banana, Kids! Chewables Pro...  "
      ]
     },
     "execution_count": 23,
     "metadata": {},
     "output_type": "execute_result"
    }
   ],
   "source": [
    "time_product_df = pd.DataFrame(final_df.groupby('time')['product_name'].nunique().index)\n",
    "time_product_df['users_count'] = final_df.groupby('time')['user_id'].nunique().values\n",
    "time_product_df['items_count'] = final_df.groupby('time')['product_name'].nunique().values\n",
    "time_product_df['items'] = final_df.groupby('time')['product_name'].unique().values\n",
    "time_product_df.set_index('time', inplace=True)\n",
    "time_product_df.head()"
   ]
  },
  {
   "cell_type": "code",
   "execution_count": 24,
   "id": "caa36da2",
   "metadata": {},
   "outputs": [],
   "source": [
    "import string\n",
    "\n",
    "# Define a function to convert text to lowercase and remove punctuations\n",
    "def preprocess_text(text):\n",
    "    text = text.lower()\n",
    "    text = ''.join([char for char in text if char not in string.punctuation])\n",
    "    return text\n",
    "\n",
    "# Apply the preprocess_text function to the 'items' column\n",
    "time_product_df['items'] = time_product_df['items'].apply(lambda items: [preprocess_text(item) for item in items])"
   ]
  },
  {
   "cell_type": "code",
   "execution_count": 25,
   "id": "1354884c",
   "metadata": {},
   "outputs": [
    {
     "data": {
      "text/html": [
       "<div>\n",
       "<style scoped>\n",
       "    .dataframe tbody tr th:only-of-type {\n",
       "        vertical-align: middle;\n",
       "    }\n",
       "\n",
       "    .dataframe tbody tr th {\n",
       "        vertical-align: top;\n",
       "    }\n",
       "\n",
       "    .dataframe thead th {\n",
       "        text-align: right;\n",
       "    }\n",
       "</style>\n",
       "<table border=\"1\" class=\"dataframe\">\n",
       "  <thead>\n",
       "    <tr style=\"text-align: right;\">\n",
       "      <th></th>\n",
       "      <th>users_count</th>\n",
       "      <th>items_count</th>\n",
       "      <th>items</th>\n",
       "    </tr>\n",
       "    <tr>\n",
       "      <th>time</th>\n",
       "      <th></th>\n",
       "      <th></th>\n",
       "      <th></th>\n",
       "    </tr>\n",
       "  </thead>\n",
       "  <tbody>\n",
       "    <tr>\n",
       "      <th>0-0</th>\n",
       "      <td>5</td>\n",
       "      <td>51</td>\n",
       "      <td>[vinyl glove powder free, organic whipping cre...</td>\n",
       "    </tr>\n",
       "    <tr>\n",
       "      <th>0-1</th>\n",
       "      <td>2</td>\n",
       "      <td>26</td>\n",
       "      <td>[corn de maiz blanco tortillas, pure mint with...</td>\n",
       "    </tr>\n",
       "    <tr>\n",
       "      <th>0-10</th>\n",
       "      <td>33</td>\n",
       "      <td>306</td>\n",
       "      <td>[sauvignon blanc, english seedless cucumber, c...</td>\n",
       "    </tr>\n",
       "    <tr>\n",
       "      <th>0-11</th>\n",
       "      <td>18</td>\n",
       "      <td>171</td>\n",
       "      <td>[granny smith apples, organic raw unfiltered a...</td>\n",
       "    </tr>\n",
       "    <tr>\n",
       "      <th>0-12</th>\n",
       "      <td>48</td>\n",
       "      <td>520</td>\n",
       "      <td>[clementines bag, banana, kids chewables probi...</td>\n",
       "    </tr>\n",
       "  </tbody>\n",
       "</table>\n",
       "</div>"
      ],
      "text/plain": [
       "      users_count  items_count  \\\n",
       "time                             \n",
       "0-0             5           51   \n",
       "0-1             2           26   \n",
       "0-10           33          306   \n",
       "0-11           18          171   \n",
       "0-12           48          520   \n",
       "\n",
       "                                                  items  \n",
       "time                                                     \n",
       "0-0   [vinyl glove powder free, organic whipping cre...  \n",
       "0-1   [corn de maiz blanco tortillas, pure mint with...  \n",
       "0-10  [sauvignon blanc, english seedless cucumber, c...  \n",
       "0-11  [granny smith apples, organic raw unfiltered a...  \n",
       "0-12  [clementines bag, banana, kids chewables probi...  "
      ]
     },
     "execution_count": 25,
     "metadata": {},
     "output_type": "execute_result"
    }
   ],
   "source": [
    "time_product_df.head()"
   ]
  },
  {
   "cell_type": "markdown",
   "id": "a87ef572",
   "metadata": {},
   "source": [
    "## Training"
   ]
  },
  {
   "cell_type": "code",
   "execution_count": 26,
   "id": "5483a122",
   "metadata": {},
   "outputs": [],
   "source": [
    "from apyori import apriori"
   ]
  },
  {
   "cell_type": "code",
   "execution_count": 27,
   "id": "aad0bbfc",
   "metadata": {},
   "outputs": [],
   "source": [
    "# from mlxtend.frequent_patterns import apriori"
   ]
  },
  {
   "cell_type": "code",
   "execution_count": 28,
   "id": "502add2d",
   "metadata": {},
   "outputs": [],
   "source": [
    "transactions = time_product_df['items'].tolist()"
   ]
  },
  {
   "cell_type": "code",
   "execution_count": 29,
   "id": "63cd6cf3",
   "metadata": {},
   "outputs": [],
   "source": [
    "rules = apriori(transactions = transactions, min_support=0.00030, min_confidance=0.01, min_lift=3, min_length=2, max_length=2)"
   ]
  },
  {
   "cell_type": "code",
   "execution_count": 30,
   "id": "ff93ce07",
   "metadata": {},
   "outputs": [],
   "source": [
    "#let's transform them into a list\n",
    "results = list(rules)"
   ]
  },
  {
   "cell_type": "code",
   "execution_count": 31,
   "id": "cadc3186",
   "metadata": {},
   "outputs": [],
   "source": [
    "def inspect(results):\n",
    "    '''\n",
    "    function to put the result in well organised pandas dataframe\n",
    "    '''\n",
    "    lhs         = [tuple(result[2][0][0])[0] for result in results]\n",
    "    rhs         = [tuple(result[2][0][1])[0] for result in results]\n",
    "    supports    = [result[1] for result in results]\n",
    "    confidences = [result[2][0][2] for result in results]\n",
    "    lifts       = [result[2][0][3] for result in results]\n",
    "    return list(zip(lhs, rhs, supports, confidences, lifts))"
   ]
  },
  {
   "cell_type": "code",
   "execution_count": 32,
   "id": "ec3ca6cd",
   "metadata": {},
   "outputs": [
    {
     "data": {
      "text/html": [
       "<div>\n",
       "<style scoped>\n",
       "    .dataframe tbody tr th:only-of-type {\n",
       "        vertical-align: middle;\n",
       "    }\n",
       "\n",
       "    .dataframe tbody tr th {\n",
       "        vertical-align: top;\n",
       "    }\n",
       "\n",
       "    .dataframe thead th {\n",
       "        text-align: right;\n",
       "    }\n",
       "</style>\n",
       "<table border=\"1\" class=\"dataframe\">\n",
       "  <thead>\n",
       "    <tr style=\"text-align: right;\">\n",
       "      <th></th>\n",
       "      <th>Item #1</th>\n",
       "      <th>Item #2</th>\n",
       "      <th>Support</th>\n",
       "      <th>Confidence</th>\n",
       "      <th>Lift</th>\n",
       "    </tr>\n",
       "  </thead>\n",
       "  <tbody>\n",
       "    <tr>\n",
       "      <th>0</th>\n",
       "      <td>0 fat free organic milk</td>\n",
       "      <td>allergen reducer</td>\n",
       "      <td>0.006803</td>\n",
       "      <td>0.5</td>\n",
       "      <td>73.500</td>\n",
       "    </tr>\n",
       "    <tr>\n",
       "      <th>1</th>\n",
       "      <td>0 fat free organic milk</td>\n",
       "      <td>baked rice and corn puffs aged white cheddar</td>\n",
       "      <td>0.006803</td>\n",
       "      <td>0.5</td>\n",
       "      <td>18.375</td>\n",
       "    </tr>\n",
       "    <tr>\n",
       "      <th>2</th>\n",
       "      <td>0 fat free organic milk</td>\n",
       "      <td>bartlett pears</td>\n",
       "      <td>0.006803</td>\n",
       "      <td>0.5</td>\n",
       "      <td>5.250</td>\n",
       "    </tr>\n",
       "    <tr>\n",
       "      <th>3</th>\n",
       "      <td>0 fat free organic milk</td>\n",
       "      <td>bay leaves</td>\n",
       "      <td>0.006803</td>\n",
       "      <td>0.5</td>\n",
       "      <td>18.375</td>\n",
       "    </tr>\n",
       "    <tr>\n",
       "      <th>4</th>\n",
       "      <td>0 fat free organic milk</td>\n",
       "      <td>black bean salsa</td>\n",
       "      <td>0.006803</td>\n",
       "      <td>0.5</td>\n",
       "      <td>73.500</td>\n",
       "    </tr>\n",
       "  </tbody>\n",
       "</table>\n",
       "</div>"
      ],
      "text/plain": [
       "                   Item #1                                       Item #2  \\\n",
       "0  0 fat free organic milk                              allergen reducer   \n",
       "1  0 fat free organic milk  baked rice and corn puffs aged white cheddar   \n",
       "2  0 fat free organic milk                                bartlett pears   \n",
       "3  0 fat free organic milk                                    bay leaves   \n",
       "4  0 fat free organic milk                              black bean salsa   \n",
       "\n",
       "    Support  Confidence    Lift  \n",
       "0  0.006803         0.5  73.500  \n",
       "1  0.006803         0.5  18.375  \n",
       "2  0.006803         0.5   5.250  \n",
       "3  0.006803         0.5  18.375  \n",
       "4  0.006803         0.5  73.500  "
      ]
     },
     "execution_count": 32,
     "metadata": {},
     "output_type": "execute_result"
    }
   ],
   "source": [
    "resultsinDataFrame = pd.DataFrame(inspect(results), columns = ['Item #1', 'Item #2', 'Support', 'Confidence', 'Lift'])\n",
    "resultsinDataFrame.head()"
   ]
  },
  {
   "cell_type": "code",
   "execution_count": null,
   "id": "86df3f39",
   "metadata": {},
   "outputs": [],
   "source": []
  }
 ],
 "metadata": {
  "kernelspec": {
   "display_name": "Python 3 (ipykernel)",
   "language": "python",
   "name": "python3"
  },
  "language_info": {
   "codemirror_mode": {
    "name": "ipython",
    "version": 3
   },
   "file_extension": ".py",
   "mimetype": "text/x-python",
   "name": "python",
   "nbconvert_exporter": "python",
   "pygments_lexer": "ipython3",
   "version": "3.9.16"
  }
 },
 "nbformat": 4,
 "nbformat_minor": 5
}
