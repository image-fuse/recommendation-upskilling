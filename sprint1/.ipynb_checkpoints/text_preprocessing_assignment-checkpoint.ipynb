{
 "cells": [
  {
   "cell_type": "code",
   "execution_count": 1,
   "id": "10ac3dfe",
   "metadata": {},
   "outputs": [],
   "source": [
    "import pandas as pd\n",
    "import re\n",
    "import string"
   ]
  },
  {
   "cell_type": "code",
   "execution_count": 2,
   "id": "24b4dc73",
   "metadata": {},
   "outputs": [
    {
     "data": {
      "text/html": [
       "<div>\n",
       "<style scoped>\n",
       "    .dataframe tbody tr th:only-of-type {\n",
       "        vertical-align: middle;\n",
       "    }\n",
       "\n",
       "    .dataframe tbody tr th {\n",
       "        vertical-align: top;\n",
       "    }\n",
       "\n",
       "    .dataframe thead th {\n",
       "        text-align: right;\n",
       "    }\n",
       "</style>\n",
       "<table border=\"1\" class=\"dataframe\">\n",
       "  <thead>\n",
       "    <tr style=\"text-align: right;\">\n",
       "      <th></th>\n",
       "      <th>tweets</th>\n",
       "      <th>labels</th>\n",
       "    </tr>\n",
       "  </thead>\n",
       "  <tbody>\n",
       "    <tr>\n",
       "      <th>0</th>\n",
       "      <td>ChatGPT: Optimizing Language Models for Dialog...</td>\n",
       "      <td>neutral</td>\n",
       "    </tr>\n",
       "    <tr>\n",
       "      <th>1</th>\n",
       "      <td>Try talking with ChatGPT, our new AI system wh...</td>\n",
       "      <td>good</td>\n",
       "    </tr>\n",
       "    <tr>\n",
       "      <th>2</th>\n",
       "      <td>ChatGPT: Optimizing Language Models for Dialog...</td>\n",
       "      <td>neutral</td>\n",
       "    </tr>\n",
       "    <tr>\n",
       "      <th>3</th>\n",
       "      <td>THRILLED to share that ChatGPT, our new model ...</td>\n",
       "      <td>good</td>\n",
       "    </tr>\n",
       "    <tr>\n",
       "      <th>4</th>\n",
       "      <td>As of 2 minutes ago, @OpenAI released their ne...</td>\n",
       "      <td>bad</td>\n",
       "    </tr>\n",
       "  </tbody>\n",
       "</table>\n",
       "</div>"
      ],
      "text/plain": [
       "                                              tweets   labels\n",
       "0  ChatGPT: Optimizing Language Models for Dialog...  neutral\n",
       "1  Try talking with ChatGPT, our new AI system wh...     good\n",
       "2  ChatGPT: Optimizing Language Models for Dialog...  neutral\n",
       "3  THRILLED to share that ChatGPT, our new model ...     good\n",
       "4  As of 2 minutes ago, @OpenAI released their ne...      bad"
      ]
     },
     "execution_count": 2,
     "metadata": {},
     "output_type": "execute_result"
    }
   ],
   "source": [
    "df = pd.read_csv(\"data/gpt.csv\")\n",
    "df.drop(['Unnamed: 0'], axis=1, inplace=True)\n",
    "df.head()"
   ]
  },
  {
   "cell_type": "markdown",
   "id": "9a860878",
   "metadata": {},
   "source": [
    "## Lowercasing"
   ]
  },
  {
   "cell_type": "code",
   "execution_count": 3,
   "id": "d2c22df6",
   "metadata": {},
   "outputs": [
    {
     "data": {
      "text/html": [
       "<div>\n",
       "<style scoped>\n",
       "    .dataframe tbody tr th:only-of-type {\n",
       "        vertical-align: middle;\n",
       "    }\n",
       "\n",
       "    .dataframe tbody tr th {\n",
       "        vertical-align: top;\n",
       "    }\n",
       "\n",
       "    .dataframe thead th {\n",
       "        text-align: right;\n",
       "    }\n",
       "</style>\n",
       "<table border=\"1\" class=\"dataframe\">\n",
       "  <thead>\n",
       "    <tr style=\"text-align: right;\">\n",
       "      <th></th>\n",
       "      <th>tweets</th>\n",
       "      <th>labels</th>\n",
       "      <th>tweets_lower</th>\n",
       "      <th>labels_lower</th>\n",
       "    </tr>\n",
       "  </thead>\n",
       "  <tbody>\n",
       "    <tr>\n",
       "      <th>0</th>\n",
       "      <td>ChatGPT: Optimizing Language Models for Dialog...</td>\n",
       "      <td>neutral</td>\n",
       "      <td>chatgpt: optimizing language models for dialog...</td>\n",
       "      <td>neutral</td>\n",
       "    </tr>\n",
       "    <tr>\n",
       "      <th>1</th>\n",
       "      <td>Try talking with ChatGPT, our new AI system wh...</td>\n",
       "      <td>good</td>\n",
       "      <td>try talking with chatgpt, our new ai system wh...</td>\n",
       "      <td>good</td>\n",
       "    </tr>\n",
       "    <tr>\n",
       "      <th>2</th>\n",
       "      <td>ChatGPT: Optimizing Language Models for Dialog...</td>\n",
       "      <td>neutral</td>\n",
       "      <td>chatgpt: optimizing language models for dialog...</td>\n",
       "      <td>neutral</td>\n",
       "    </tr>\n",
       "    <tr>\n",
       "      <th>3</th>\n",
       "      <td>THRILLED to share that ChatGPT, our new model ...</td>\n",
       "      <td>good</td>\n",
       "      <td>thrilled to share that chatgpt, our new model ...</td>\n",
       "      <td>good</td>\n",
       "    </tr>\n",
       "    <tr>\n",
       "      <th>4</th>\n",
       "      <td>As of 2 minutes ago, @OpenAI released their ne...</td>\n",
       "      <td>bad</td>\n",
       "      <td>as of 2 minutes ago, @openai released their ne...</td>\n",
       "      <td>bad</td>\n",
       "    </tr>\n",
       "  </tbody>\n",
       "</table>\n",
       "</div>"
      ],
      "text/plain": [
       "                                              tweets   labels  \\\n",
       "0  ChatGPT: Optimizing Language Models for Dialog...  neutral   \n",
       "1  Try talking with ChatGPT, our new AI system wh...     good   \n",
       "2  ChatGPT: Optimizing Language Models for Dialog...  neutral   \n",
       "3  THRILLED to share that ChatGPT, our new model ...     good   \n",
       "4  As of 2 minutes ago, @OpenAI released their ne...      bad   \n",
       "\n",
       "                                        tweets_lower labels_lower  \n",
       "0  chatgpt: optimizing language models for dialog...      neutral  \n",
       "1  try talking with chatgpt, our new ai system wh...         good  \n",
       "2  chatgpt: optimizing language models for dialog...      neutral  \n",
       "3  thrilled to share that chatgpt, our new model ...         good  \n",
       "4  as of 2 minutes ago, @openai released their ne...          bad  "
      ]
     },
     "execution_count": 3,
     "metadata": {},
     "output_type": "execute_result"
    }
   ],
   "source": [
    "df[\"tweets_lower\"] = df[\"tweets\"].str.lower()\n",
    "df[\"labels_lower\"] = df[\"labels\"].str.lower()\n",
    "df.head()"
   ]
  },
  {
   "cell_type": "code",
   "execution_count": 4,
   "id": "cb9b1780",
   "metadata": {},
   "outputs": [],
   "source": [
    "df.drop(['tweets', 'labels'], axis=1, inplace=True)"
   ]
  },
  {
   "cell_type": "code",
   "execution_count": 5,
   "id": "d1cd4295",
   "metadata": {},
   "outputs": [],
   "source": [
    "df.rename(columns={\"tweets_lower\": \"tweets\", \"labels_lower\": \"labels\"}, inplace=True)"
   ]
  },
  {
   "cell_type": "code",
   "execution_count": 6,
   "id": "36bf0078",
   "metadata": {},
   "outputs": [
    {
     "data": {
      "text/html": [
       "<div>\n",
       "<style scoped>\n",
       "    .dataframe tbody tr th:only-of-type {\n",
       "        vertical-align: middle;\n",
       "    }\n",
       "\n",
       "    .dataframe tbody tr th {\n",
       "        vertical-align: top;\n",
       "    }\n",
       "\n",
       "    .dataframe thead th {\n",
       "        text-align: right;\n",
       "    }\n",
       "</style>\n",
       "<table border=\"1\" class=\"dataframe\">\n",
       "  <thead>\n",
       "    <tr style=\"text-align: right;\">\n",
       "      <th></th>\n",
       "      <th>tweets</th>\n",
       "      <th>labels</th>\n",
       "    </tr>\n",
       "  </thead>\n",
       "  <tbody>\n",
       "    <tr>\n",
       "      <th>0</th>\n",
       "      <td>chatgpt: optimizing language models for dialog...</td>\n",
       "      <td>neutral</td>\n",
       "    </tr>\n",
       "    <tr>\n",
       "      <th>1</th>\n",
       "      <td>try talking with chatgpt, our new ai system wh...</td>\n",
       "      <td>good</td>\n",
       "    </tr>\n",
       "    <tr>\n",
       "      <th>2</th>\n",
       "      <td>chatgpt: optimizing language models for dialog...</td>\n",
       "      <td>neutral</td>\n",
       "    </tr>\n",
       "    <tr>\n",
       "      <th>3</th>\n",
       "      <td>thrilled to share that chatgpt, our new model ...</td>\n",
       "      <td>good</td>\n",
       "    </tr>\n",
       "    <tr>\n",
       "      <th>4</th>\n",
       "      <td>as of 2 minutes ago, @openai released their ne...</td>\n",
       "      <td>bad</td>\n",
       "    </tr>\n",
       "  </tbody>\n",
       "</table>\n",
       "</div>"
      ],
      "text/plain": [
       "                                              tweets   labels\n",
       "0  chatgpt: optimizing language models for dialog...  neutral\n",
       "1  try talking with chatgpt, our new ai system wh...     good\n",
       "2  chatgpt: optimizing language models for dialog...  neutral\n",
       "3  thrilled to share that chatgpt, our new model ...     good\n",
       "4  as of 2 minutes ago, @openai released their ne...      bad"
      ]
     },
     "execution_count": 6,
     "metadata": {},
     "output_type": "execute_result"
    }
   ],
   "source": [
    "df.head()"
   ]
  },
  {
   "cell_type": "markdown",
   "id": "297e1b1f",
   "metadata": {},
   "source": [
    "## Removing punctuations"
   ]
  },
  {
   "cell_type": "code",
   "execution_count": 7,
   "id": "f097fd6b",
   "metadata": {},
   "outputs": [],
   "source": [
    "def remove_punctuation(text):\n",
    "    \"\"\"\n",
    "    Remove punctuation characters from a given text string.\n",
    "\n",
    "    Parameters:\n",
    "    text (str): The input text from which punctuation characters should be removed.\n",
    "\n",
    "    Returns:\n",
    "    str: A new string with all punctuation characters removed.\n",
    "\n",
    "    Example:\n",
    "    >>> remove_punctuation(\"Hello, World!\")\n",
    "    'Hello World'\n",
    "    \"\"\"\n",
    "    return re.sub(f\"[{re.escape(string.punctuation)}]\", '', text)"
   ]
  },
  {
   "cell_type": "code",
   "execution_count": 8,
   "id": "42a61c69",
   "metadata": {},
   "outputs": [],
   "source": [
    "# Apply the function to the 'tweets' column\n",
    "df['tweets'] = df['tweets'].apply(remove_punctuation)"
   ]
  },
  {
   "cell_type": "code",
   "execution_count": 9,
   "id": "3f15c34d",
   "metadata": {},
   "outputs": [
    {
     "data": {
      "text/html": [
       "<div>\n",
       "<style scoped>\n",
       "    .dataframe tbody tr th:only-of-type {\n",
       "        vertical-align: middle;\n",
       "    }\n",
       "\n",
       "    .dataframe tbody tr th {\n",
       "        vertical-align: top;\n",
       "    }\n",
       "\n",
       "    .dataframe thead th {\n",
       "        text-align: right;\n",
       "    }\n",
       "</style>\n",
       "<table border=\"1\" class=\"dataframe\">\n",
       "  <thead>\n",
       "    <tr style=\"text-align: right;\">\n",
       "      <th></th>\n",
       "      <th>tweets</th>\n",
       "      <th>labels</th>\n",
       "    </tr>\n",
       "  </thead>\n",
       "  <tbody>\n",
       "    <tr>\n",
       "      <th>0</th>\n",
       "      <td>chatgpt optimizing language models for dialogu...</td>\n",
       "      <td>neutral</td>\n",
       "    </tr>\n",
       "    <tr>\n",
       "      <th>1</th>\n",
       "      <td>try talking with chatgpt our new ai system whi...</td>\n",
       "      <td>good</td>\n",
       "    </tr>\n",
       "    <tr>\n",
       "      <th>2</th>\n",
       "      <td>chatgpt optimizing language models for dialogu...</td>\n",
       "      <td>neutral</td>\n",
       "    </tr>\n",
       "    <tr>\n",
       "      <th>3</th>\n",
       "      <td>thrilled to share that chatgpt our new model o...</td>\n",
       "      <td>good</td>\n",
       "    </tr>\n",
       "    <tr>\n",
       "      <th>4</th>\n",
       "      <td>as of 2 minutes ago openai released their new ...</td>\n",
       "      <td>bad</td>\n",
       "    </tr>\n",
       "  </tbody>\n",
       "</table>\n",
       "</div>"
      ],
      "text/plain": [
       "                                              tweets   labels\n",
       "0  chatgpt optimizing language models for dialogu...  neutral\n",
       "1  try talking with chatgpt our new ai system whi...     good\n",
       "2  chatgpt optimizing language models for dialogu...  neutral\n",
       "3  thrilled to share that chatgpt our new model o...     good\n",
       "4  as of 2 minutes ago openai released their new ...      bad"
      ]
     },
     "execution_count": 9,
     "metadata": {},
     "output_type": "execute_result"
    }
   ],
   "source": [
    "df.head()"
   ]
  },
  {
   "cell_type": "markdown",
   "id": "94351b85",
   "metadata": {},
   "source": [
    "## Removing stopwords"
   ]
  },
  {
   "cell_type": "code",
   "execution_count": 10,
   "id": "3d26a39d",
   "metadata": {},
   "outputs": [
    {
     "name": "stderr",
     "output_type": "stream",
     "text": [
      "[nltk_data] Downloading package stopwords to\n",
      "[nltk_data]     C:\\Users\\Image\\AppData\\Roaming\\nltk_data...\n",
      "[nltk_data]   Package stopwords is already up-to-date!\n"
     ]
    }
   ],
   "source": [
    "import nltk\n",
    "nltk.download('stopwords')\n",
    "from nltk.corpus import stopwords\n",
    "from nltk.tokenize import word_tokenize"
   ]
  },
  {
   "cell_type": "code",
   "execution_count": 11,
   "id": "88628f3a",
   "metadata": {},
   "outputs": [],
   "source": [
    "def remove_stopwords(text):\n",
    "    \"\"\"\n",
    "    Remove common English stopwords from a given text.\n",
    "\n",
    "    This function takes an input text and removes commonly used English stopwords, such as\n",
    "    'the', 'is', 'and', 'in', etc., from the text.\n",
    "\n",
    "    Parameters:\n",
    "    text (str): The input text from which stopwords should be removed.\n",
    "\n",
    "    Returns:\n",
    "    str: A new string with stopwords removed.\n",
    "\n",
    "    Example:\n",
    "    >>> remove_stopwords(\"This is an example sentence with some stopwords.\")\n",
    "    'This example sentence stopwords .'\n",
    "    \"\"\"\n",
    "    stop_words = set(stopwords.words('english'))\n",
    "    words = word_tokenize(text)\n",
    "    filtered_words = [word for word in words if word.lower() not in stop_words]\n",
    "    return ' '.join(filtered_words)"
   ]
  },
  {
   "cell_type": "code",
   "execution_count": 12,
   "id": "a8fd6a7b",
   "metadata": {},
   "outputs": [],
   "source": [
    "# Apply the function to the 'tweets' column\n",
    "df['tweets'] = df['tweets'].apply(remove_stopwords)"
   ]
  },
  {
   "cell_type": "code",
   "execution_count": 13,
   "id": "1274c525",
   "metadata": {},
   "outputs": [
    {
     "data": {
      "text/html": [
       "<div>\n",
       "<style scoped>\n",
       "    .dataframe tbody tr th:only-of-type {\n",
       "        vertical-align: middle;\n",
       "    }\n",
       "\n",
       "    .dataframe tbody tr th {\n",
       "        vertical-align: top;\n",
       "    }\n",
       "\n",
       "    .dataframe thead th {\n",
       "        text-align: right;\n",
       "    }\n",
       "</style>\n",
       "<table border=\"1\" class=\"dataframe\">\n",
       "  <thead>\n",
       "    <tr style=\"text-align: right;\">\n",
       "      <th></th>\n",
       "      <th>tweets</th>\n",
       "      <th>labels</th>\n",
       "    </tr>\n",
       "  </thead>\n",
       "  <tbody>\n",
       "    <tr>\n",
       "      <th>0</th>\n",
       "      <td>chatgpt optimizing language models dialogue ht...</td>\n",
       "      <td>neutral</td>\n",
       "    </tr>\n",
       "    <tr>\n",
       "      <th>1</th>\n",
       "      <td>try talking chatgpt new ai system optimized di...</td>\n",
       "      <td>good</td>\n",
       "    </tr>\n",
       "    <tr>\n",
       "      <th>2</th>\n",
       "      <td>chatgpt optimizing language models dialogue ht...</td>\n",
       "      <td>neutral</td>\n",
       "    </tr>\n",
       "    <tr>\n",
       "      <th>3</th>\n",
       "      <td>thrilled share chatgpt new model optimized dia...</td>\n",
       "      <td>good</td>\n",
       "    </tr>\n",
       "    <tr>\n",
       "      <th>4</th>\n",
       "      <td>2 minutes ago openai released new chatgpt nnan...</td>\n",
       "      <td>bad</td>\n",
       "    </tr>\n",
       "  </tbody>\n",
       "</table>\n",
       "</div>"
      ],
      "text/plain": [
       "                                              tweets   labels\n",
       "0  chatgpt optimizing language models dialogue ht...  neutral\n",
       "1  try talking chatgpt new ai system optimized di...     good\n",
       "2  chatgpt optimizing language models dialogue ht...  neutral\n",
       "3  thrilled share chatgpt new model optimized dia...     good\n",
       "4  2 minutes ago openai released new chatgpt nnan...      bad"
      ]
     },
     "execution_count": 13,
     "metadata": {},
     "output_type": "execute_result"
    }
   ],
   "source": [
    "df.head()"
   ]
  },
  {
   "cell_type": "markdown",
   "id": "7c330331",
   "metadata": {},
   "source": [
    "## Removal of emojis"
   ]
  },
  {
   "cell_type": "code",
   "execution_count": 14,
   "id": "01fdb7c6",
   "metadata": {},
   "outputs": [],
   "source": [
    "def remove_emoji(text):\n",
    "    \"\"\"\n",
    "    Remove emojis and emoticons from a given text.\n",
    "\n",
    "    This function takes an input text and removes all emojis and emoticons present\n",
    "    in the text.\n",
    "\n",
    "    Parameters:\n",
    "    text (str): The input text from which emojis and emoticons should be removed.\n",
    "\n",
    "    Returns:\n",
    "    str: A new string with emojis and emoticons removed.\n",
    "\n",
    "    Example:\n",
    "    >>> remove_emoji(\"I love pizza! 🍕❤️😋\")\n",
    "    'I love pizza! '\n",
    "    \"\"\"\n",
    "    emoji_pattern = re.compile(\"[\"\n",
    "                           u\"\\U0001F600-\\U0001F64F\"  # emoticons\n",
    "                           u\"\\U0001F300-\\U0001F5FF\"  # symbols & pictographs\n",
    "                           u\"\\U0001F680-\\U0001F6FF\"  # transport & map symbols\n",
    "                           u\"\\U0001F1E0-\\U0001F1FF\"  # flags (iOS)\n",
    "                           u\"\\U00002702-\\U000027B0\"\n",
    "                           u\"\\U000024C2-\\U0001F251\"\n",
    "                           \"]+\", flags=re.UNICODE)\n",
    "    return emoji_pattern.sub(r'', text)"
   ]
  },
  {
   "cell_type": "code",
   "execution_count": 15,
   "id": "7d814ccb",
   "metadata": {},
   "outputs": [],
   "source": [
    "# Apply the remove_emoji function to the 'tweets' column\n",
    "df['tweets'] = df['tweets'].apply(remove_emoji)"
   ]
  },
  {
   "cell_type": "code",
   "execution_count": 16,
   "id": "f53e746e",
   "metadata": {},
   "outputs": [
    {
     "data": {
      "text/html": [
       "<div>\n",
       "<style scoped>\n",
       "    .dataframe tbody tr th:only-of-type {\n",
       "        vertical-align: middle;\n",
       "    }\n",
       "\n",
       "    .dataframe tbody tr th {\n",
       "        vertical-align: top;\n",
       "    }\n",
       "\n",
       "    .dataframe thead th {\n",
       "        text-align: right;\n",
       "    }\n",
       "</style>\n",
       "<table border=\"1\" class=\"dataframe\">\n",
       "  <thead>\n",
       "    <tr style=\"text-align: right;\">\n",
       "      <th></th>\n",
       "      <th>tweets</th>\n",
       "      <th>labels</th>\n",
       "    </tr>\n",
       "  </thead>\n",
       "  <tbody>\n",
       "    <tr>\n",
       "      <th>0</th>\n",
       "      <td>chatgpt optimizing language models dialogue ht...</td>\n",
       "      <td>neutral</td>\n",
       "    </tr>\n",
       "    <tr>\n",
       "      <th>1</th>\n",
       "      <td>try talking chatgpt new ai system optimized di...</td>\n",
       "      <td>good</td>\n",
       "    </tr>\n",
       "    <tr>\n",
       "      <th>2</th>\n",
       "      <td>chatgpt optimizing language models dialogue ht...</td>\n",
       "      <td>neutral</td>\n",
       "    </tr>\n",
       "    <tr>\n",
       "      <th>3</th>\n",
       "      <td>thrilled share chatgpt new model optimized dia...</td>\n",
       "      <td>good</td>\n",
       "    </tr>\n",
       "    <tr>\n",
       "      <th>4</th>\n",
       "      <td>2 minutes ago openai released new chatgpt nnan...</td>\n",
       "      <td>bad</td>\n",
       "    </tr>\n",
       "  </tbody>\n",
       "</table>\n",
       "</div>"
      ],
      "text/plain": [
       "                                              tweets   labels\n",
       "0  chatgpt optimizing language models dialogue ht...  neutral\n",
       "1  try talking chatgpt new ai system optimized di...     good\n",
       "2  chatgpt optimizing language models dialogue ht...  neutral\n",
       "3  thrilled share chatgpt new model optimized dia...     good\n",
       "4  2 minutes ago openai released new chatgpt nnan...      bad"
      ]
     },
     "execution_count": 16,
     "metadata": {},
     "output_type": "execute_result"
    }
   ],
   "source": [
    "df.head()"
   ]
  },
  {
   "cell_type": "markdown",
   "id": "338f27fb",
   "metadata": {},
   "source": [
    "## Removal of URLs"
   ]
  },
  {
   "cell_type": "code",
   "execution_count": 17,
   "id": "7e0ce7ea",
   "metadata": {},
   "outputs": [],
   "source": [
    "def remove_urls(text):\n",
    "    \"\"\"\n",
    "    Remove URLs (Uniform Resource Locators) from a given text.\n",
    "\n",
    "    This function takes an input text and removes any URLs present in the text,\n",
    "    including both HTTP(S) and 'www' URLs.\n",
    "\n",
    "    Parameters:\n",
    "    text (str): The input text from which URLs should be removed.\n",
    "\n",
    "    Returns:\n",
    "    str: A new string with URLs removed.\n",
    "\n",
    "    Example:\n",
    "    >>> remove_urls(\"Check out my website at https://www.example.com\")\n",
    "    'Check out my website at '\n",
    "    \"\"\"\n",
    "    url_pattern = re.compile(r'https?://\\S+|www\\.\\S+')\n",
    "    return url_pattern.sub(r'', text)"
   ]
  },
  {
   "cell_type": "code",
   "execution_count": 18,
   "id": "6b5901ef",
   "metadata": {},
   "outputs": [],
   "source": [
    "# Apply the remove_urls function to the 'tweets' column\n",
    "df['tweets'] = df['tweets'].apply(remove_urls)"
   ]
  },
  {
   "cell_type": "code",
   "execution_count": 19,
   "id": "e48892b8",
   "metadata": {},
   "outputs": [
    {
     "data": {
      "text/html": [
       "<div>\n",
       "<style scoped>\n",
       "    .dataframe tbody tr th:only-of-type {\n",
       "        vertical-align: middle;\n",
       "    }\n",
       "\n",
       "    .dataframe tbody tr th {\n",
       "        vertical-align: top;\n",
       "    }\n",
       "\n",
       "    .dataframe thead th {\n",
       "        text-align: right;\n",
       "    }\n",
       "</style>\n",
       "<table border=\"1\" class=\"dataframe\">\n",
       "  <thead>\n",
       "    <tr style=\"text-align: right;\">\n",
       "      <th></th>\n",
       "      <th>tweets</th>\n",
       "      <th>labels</th>\n",
       "    </tr>\n",
       "  </thead>\n",
       "  <tbody>\n",
       "    <tr>\n",
       "      <th>0</th>\n",
       "      <td>chatgpt optimizing language models dialogue ht...</td>\n",
       "      <td>neutral</td>\n",
       "    </tr>\n",
       "    <tr>\n",
       "      <th>1</th>\n",
       "      <td>try talking chatgpt new ai system optimized di...</td>\n",
       "      <td>good</td>\n",
       "    </tr>\n",
       "    <tr>\n",
       "      <th>2</th>\n",
       "      <td>chatgpt optimizing language models dialogue ht...</td>\n",
       "      <td>neutral</td>\n",
       "    </tr>\n",
       "    <tr>\n",
       "      <th>3</th>\n",
       "      <td>thrilled share chatgpt new model optimized dia...</td>\n",
       "      <td>good</td>\n",
       "    </tr>\n",
       "    <tr>\n",
       "      <th>4</th>\n",
       "      <td>2 minutes ago openai released new chatgpt nnan...</td>\n",
       "      <td>bad</td>\n",
       "    </tr>\n",
       "  </tbody>\n",
       "</table>\n",
       "</div>"
      ],
      "text/plain": [
       "                                              tweets   labels\n",
       "0  chatgpt optimizing language models dialogue ht...  neutral\n",
       "1  try talking chatgpt new ai system optimized di...     good\n",
       "2  chatgpt optimizing language models dialogue ht...  neutral\n",
       "3  thrilled share chatgpt new model optimized dia...     good\n",
       "4  2 minutes ago openai released new chatgpt nnan...      bad"
      ]
     },
     "execution_count": 19,
     "metadata": {},
     "output_type": "execute_result"
    }
   ],
   "source": [
    "df.head()"
   ]
  },
  {
   "cell_type": "markdown",
   "id": "61fd6b84",
   "metadata": {},
   "source": [
    "## Removal of HTML Tags"
   ]
  },
  {
   "cell_type": "code",
   "execution_count": 20,
   "id": "c502dd82",
   "metadata": {},
   "outputs": [],
   "source": [
    "def remove_html_tags(text):\n",
    "    \"\"\"\n",
    "    Remove HTML tags from a given text.\n",
    "\n",
    "    This function takes an input text and removes any HTML tags present in the text,\n",
    "    leaving only the plain text content.\n",
    "\n",
    "    Parameters:\n",
    "    text (str): The input text from which HTML tags should be removed.\n",
    "\n",
    "    Returns:\n",
    "    str: A new string with HTML tags removed.\n",
    "\n",
    "    Example:\n",
    "    >>> remove_html_tags(\"<p>This is <b>bold</b> text.</p>\")\n",
    "    'This is bold text.'\n",
    "    \"\"\"\n",
    "    html_pattern = re.compile('<.*?>')\n",
    "    return html_pattern.sub(r'', text)"
   ]
  },
  {
   "cell_type": "code",
   "execution_count": 21,
   "id": "02207bc6",
   "metadata": {},
   "outputs": [],
   "source": [
    "# Apply the remove_html_tags function to the 'tweets' column\n",
    "df['tweets'] = df['tweets'].apply(remove_html_tags)"
   ]
  },
  {
   "cell_type": "code",
   "execution_count": 22,
   "id": "c4a9cc6f",
   "metadata": {},
   "outputs": [
    {
     "data": {
      "text/html": [
       "<div>\n",
       "<style scoped>\n",
       "    .dataframe tbody tr th:only-of-type {\n",
       "        vertical-align: middle;\n",
       "    }\n",
       "\n",
       "    .dataframe tbody tr th {\n",
       "        vertical-align: top;\n",
       "    }\n",
       "\n",
       "    .dataframe thead th {\n",
       "        text-align: right;\n",
       "    }\n",
       "</style>\n",
       "<table border=\"1\" class=\"dataframe\">\n",
       "  <thead>\n",
       "    <tr style=\"text-align: right;\">\n",
       "      <th></th>\n",
       "      <th>tweets</th>\n",
       "      <th>labels</th>\n",
       "    </tr>\n",
       "  </thead>\n",
       "  <tbody>\n",
       "    <tr>\n",
       "      <th>0</th>\n",
       "      <td>chatgpt optimizing language models dialogue ht...</td>\n",
       "      <td>neutral</td>\n",
       "    </tr>\n",
       "    <tr>\n",
       "      <th>1</th>\n",
       "      <td>try talking chatgpt new ai system optimized di...</td>\n",
       "      <td>good</td>\n",
       "    </tr>\n",
       "    <tr>\n",
       "      <th>2</th>\n",
       "      <td>chatgpt optimizing language models dialogue ht...</td>\n",
       "      <td>neutral</td>\n",
       "    </tr>\n",
       "    <tr>\n",
       "      <th>3</th>\n",
       "      <td>thrilled share chatgpt new model optimized dia...</td>\n",
       "      <td>good</td>\n",
       "    </tr>\n",
       "    <tr>\n",
       "      <th>4</th>\n",
       "      <td>2 minutes ago openai released new chatgpt nnan...</td>\n",
       "      <td>bad</td>\n",
       "    </tr>\n",
       "  </tbody>\n",
       "</table>\n",
       "</div>"
      ],
      "text/plain": [
       "                                              tweets   labels\n",
       "0  chatgpt optimizing language models dialogue ht...  neutral\n",
       "1  try talking chatgpt new ai system optimized di...     good\n",
       "2  chatgpt optimizing language models dialogue ht...  neutral\n",
       "3  thrilled share chatgpt new model optimized dia...     good\n",
       "4  2 minutes ago openai released new chatgpt nnan...      bad"
      ]
     },
     "execution_count": 22,
     "metadata": {},
     "output_type": "execute_result"
    }
   ],
   "source": [
    "df.head()"
   ]
  },
  {
   "cell_type": "markdown",
   "id": "8c65fa5a",
   "metadata": {},
   "source": [
    "## Stemming"
   ]
  },
  {
   "cell_type": "code",
   "execution_count": 23,
   "id": "e2f55b8e",
   "metadata": {},
   "outputs": [],
   "source": [
    "from nltk.stem import PorterStemmer"
   ]
  },
  {
   "cell_type": "code",
   "execution_count": 24,
   "id": "56de261a",
   "metadata": {},
   "outputs": [],
   "source": [
    "def perform_stemming(text):\n",
    "    \"\"\"\n",
    "    Perform stemming on a given text.\n",
    "\n",
    "    Stemming is the process of reducing words to their base or root form. This function\n",
    "    uses the Porter Stemmer algorithm to perform stemming on the words in the input text.\n",
    "\n",
    "    Parameters:\n",
    "    text (str): The input text on which stemming should be performed.\n",
    "\n",
    "    Returns:\n",
    "    str: A new string with words stemmed.\n",
    "\n",
    "    Example:\n",
    "    >>> perform_stemming(\"Walking walks walked\")\n",
    "    'walk walk walk'\n",
    "    \"\"\"\n",
    "    stemmer = PorterStemmer()\n",
    "    words = word_tokenize(text)\n",
    "    stemmed_words = [stemmer.stem(word) for word in words]\n",
    "    return ' '.join(stemmed_words)"
   ]
  },
  {
   "cell_type": "code",
   "execution_count": 25,
   "id": "b8f4166e",
   "metadata": {},
   "outputs": [],
   "source": [
    "stem_df = df.copy()\n",
    "# Apply the stemming function to the 'tweets' column\n",
    "stem_df['stemmed_tweets'] = stem_df['tweets'].apply(perform_stemming)"
   ]
  },
  {
   "cell_type": "code",
   "execution_count": 26,
   "id": "d61814f3",
   "metadata": {},
   "outputs": [
    {
     "data": {
      "text/html": [
       "<div>\n",
       "<style scoped>\n",
       "    .dataframe tbody tr th:only-of-type {\n",
       "        vertical-align: middle;\n",
       "    }\n",
       "\n",
       "    .dataframe tbody tr th {\n",
       "        vertical-align: top;\n",
       "    }\n",
       "\n",
       "    .dataframe thead th {\n",
       "        text-align: right;\n",
       "    }\n",
       "</style>\n",
       "<table border=\"1\" class=\"dataframe\">\n",
       "  <thead>\n",
       "    <tr style=\"text-align: right;\">\n",
       "      <th></th>\n",
       "      <th>tweets</th>\n",
       "      <th>labels</th>\n",
       "      <th>stemmed_tweets</th>\n",
       "    </tr>\n",
       "  </thead>\n",
       "  <tbody>\n",
       "    <tr>\n",
       "      <th>0</th>\n",
       "      <td>chatgpt optimizing language models dialogue ht...</td>\n",
       "      <td>neutral</td>\n",
       "      <td>chatgpt optim languag model dialogu httpstcok9...</td>\n",
       "    </tr>\n",
       "    <tr>\n",
       "      <th>1</th>\n",
       "      <td>try talking chatgpt new ai system optimized di...</td>\n",
       "      <td>good</td>\n",
       "      <td>tri talk chatgpt new ai system optim dialogu f...</td>\n",
       "    </tr>\n",
       "    <tr>\n",
       "      <th>2</th>\n",
       "      <td>chatgpt optimizing language models dialogue ht...</td>\n",
       "      <td>neutral</td>\n",
       "      <td>chatgpt optim languag model dialogu httpstcogl...</td>\n",
       "    </tr>\n",
       "    <tr>\n",
       "      <th>3</th>\n",
       "      <td>thrilled share chatgpt new model optimized dia...</td>\n",
       "      <td>good</td>\n",
       "      <td>thrill share chatgpt new model optim dialog pu...</td>\n",
       "    </tr>\n",
       "    <tr>\n",
       "      <th>4</th>\n",
       "      <td>2 minutes ago openai released new chatgpt nnan...</td>\n",
       "      <td>bad</td>\n",
       "      <td>2 minut ago openai releas new chatgpt nnand us...</td>\n",
       "    </tr>\n",
       "  </tbody>\n",
       "</table>\n",
       "</div>"
      ],
      "text/plain": [
       "                                              tweets   labels  \\\n",
       "0  chatgpt optimizing language models dialogue ht...  neutral   \n",
       "1  try talking chatgpt new ai system optimized di...     good   \n",
       "2  chatgpt optimizing language models dialogue ht...  neutral   \n",
       "3  thrilled share chatgpt new model optimized dia...     good   \n",
       "4  2 minutes ago openai released new chatgpt nnan...      bad   \n",
       "\n",
       "                                      stemmed_tweets  \n",
       "0  chatgpt optim languag model dialogu httpstcok9...  \n",
       "1  tri talk chatgpt new ai system optim dialogu f...  \n",
       "2  chatgpt optim languag model dialogu httpstcogl...  \n",
       "3  thrill share chatgpt new model optim dialog pu...  \n",
       "4  2 minut ago openai releas new chatgpt nnand us...  "
      ]
     },
     "execution_count": 26,
     "metadata": {},
     "output_type": "execute_result"
    }
   ],
   "source": [
    "stem_df.head()"
   ]
  },
  {
   "cell_type": "markdown",
   "id": "58518570",
   "metadata": {},
   "source": [
    "## Lemmatization"
   ]
  },
  {
   "cell_type": "code",
   "execution_count": 27,
   "id": "a6e2029e",
   "metadata": {},
   "outputs": [],
   "source": [
    "from nltk.stem import WordNetLemmatizer"
   ]
  },
  {
   "cell_type": "code",
   "execution_count": 28,
   "id": "3fc94fd9",
   "metadata": {},
   "outputs": [],
   "source": [
    "def perform_lemmatization(text):\n",
    "    \"\"\"\n",
    "    Perform lemmatization on a given text.\n",
    "\n",
    "    Lemmatization is the process of reducing words to their base or dictionary form. This\n",
    "    function uses the WordNet Lemmatizer to perform lemmatization on the words in the input text.\n",
    "\n",
    "    Parameters:\n",
    "    text (str): The input text on which lemmatization should be performed.\n",
    "\n",
    "    Returns:\n",
    "    str: A new string with words lemmatized.\n",
    "\n",
    "    Example:\n",
    "    >>> perform_lemmatization(\"Walking walks walked\")\n",
    "    'Walking walk walked'\n",
    "    \"\"\"\n",
    "    lemmatizer = WordNetLemmatizer()\n",
    "    words = word_tokenize(text)\n",
    "    lemmatized_words = [lemmatizer.lemmatize(word) for word in words]\n",
    "    return ' '.join(lemmatized_words)"
   ]
  },
  {
   "cell_type": "code",
   "execution_count": 29,
   "id": "e7ebd3c8",
   "metadata": {},
   "outputs": [],
   "source": [
    "lemma_df = df.copy()\n",
    "# Apply the lemmatization function to the 'tweets' column\n",
    "lemma_df['lemmatized_tweets'] = lemma_df['tweets'].apply(perform_lemmatization)"
   ]
  },
  {
   "cell_type": "code",
   "execution_count": 30,
   "id": "82b5c02d",
   "metadata": {},
   "outputs": [
    {
     "data": {
      "text/html": [
       "<div>\n",
       "<style scoped>\n",
       "    .dataframe tbody tr th:only-of-type {\n",
       "        vertical-align: middle;\n",
       "    }\n",
       "\n",
       "    .dataframe tbody tr th {\n",
       "        vertical-align: top;\n",
       "    }\n",
       "\n",
       "    .dataframe thead th {\n",
       "        text-align: right;\n",
       "    }\n",
       "</style>\n",
       "<table border=\"1\" class=\"dataframe\">\n",
       "  <thead>\n",
       "    <tr style=\"text-align: right;\">\n",
       "      <th></th>\n",
       "      <th>tweets</th>\n",
       "      <th>labels</th>\n",
       "      <th>lemmatized_tweets</th>\n",
       "    </tr>\n",
       "  </thead>\n",
       "  <tbody>\n",
       "    <tr>\n",
       "      <th>0</th>\n",
       "      <td>chatgpt optimizing language models dialogue ht...</td>\n",
       "      <td>neutral</td>\n",
       "      <td>chatgpt optimizing language model dialogue htt...</td>\n",
       "    </tr>\n",
       "    <tr>\n",
       "      <th>1</th>\n",
       "      <td>try talking chatgpt new ai system optimized di...</td>\n",
       "      <td>good</td>\n",
       "      <td>try talking chatgpt new ai system optimized di...</td>\n",
       "    </tr>\n",
       "    <tr>\n",
       "      <th>2</th>\n",
       "      <td>chatgpt optimizing language models dialogue ht...</td>\n",
       "      <td>neutral</td>\n",
       "      <td>chatgpt optimizing language model dialogue htt...</td>\n",
       "    </tr>\n",
       "    <tr>\n",
       "      <th>3</th>\n",
       "      <td>thrilled share chatgpt new model optimized dia...</td>\n",
       "      <td>good</td>\n",
       "      <td>thrilled share chatgpt new model optimized dia...</td>\n",
       "    </tr>\n",
       "    <tr>\n",
       "      <th>4</th>\n",
       "      <td>2 minutes ago openai released new chatgpt nnan...</td>\n",
       "      <td>bad</td>\n",
       "      <td>2 minute ago openai released new chatgpt nnand...</td>\n",
       "    </tr>\n",
       "  </tbody>\n",
       "</table>\n",
       "</div>"
      ],
      "text/plain": [
       "                                              tweets   labels  \\\n",
       "0  chatgpt optimizing language models dialogue ht...  neutral   \n",
       "1  try talking chatgpt new ai system optimized di...     good   \n",
       "2  chatgpt optimizing language models dialogue ht...  neutral   \n",
       "3  thrilled share chatgpt new model optimized dia...     good   \n",
       "4  2 minutes ago openai released new chatgpt nnan...      bad   \n",
       "\n",
       "                                   lemmatized_tweets  \n",
       "0  chatgpt optimizing language model dialogue htt...  \n",
       "1  try talking chatgpt new ai system optimized di...  \n",
       "2  chatgpt optimizing language model dialogue htt...  \n",
       "3  thrilled share chatgpt new model optimized dia...  \n",
       "4  2 minute ago openai released new chatgpt nnand...  "
      ]
     },
     "execution_count": 30,
     "metadata": {},
     "output_type": "execute_result"
    }
   ],
   "source": [
    "lemma_df.head()"
   ]
  }
 ],
 "metadata": {
  "kernelspec": {
   "display_name": "Python 3 (ipykernel)",
   "language": "python",
   "name": "python3"
  },
  "language_info": {
   "codemirror_mode": {
    "name": "ipython",
    "version": 3
   },
   "file_extension": ".py",
   "mimetype": "text/x-python",
   "name": "python",
   "nbconvert_exporter": "python",
   "pygments_lexer": "ipython3",
   "version": "3.9.16"
  }
 },
 "nbformat": 4,
 "nbformat_minor": 5
}
